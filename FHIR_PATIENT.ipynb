{
  "nbformat": 4,
  "nbformat_minor": 0,
  "metadata": {
    "colab": {
      "provenance": [],
      "authorship_tag": "ABX9TyOVxzkrmLwnZ9wUFL2Rp4wI"
    },
    "kernelspec": {
      "name": "python3",
      "display_name": "Python 3"
    },
    "language_info": {
      "name": "python"
    }
  },
  "cells": [
    {
      "cell_type": "code",
      "execution_count": 1,
      "metadata": {
        "colab": {
          "base_uri": "https://localhost:8080/"
        },
        "id": "5S9nDlq3y9QA",
        "outputId": "8ef93fb2-d2b8-40b2-c94c-cd7e37963839"
      },
      "outputs": [
        {
          "output_type": "stream",
          "name": "stdout",
          "text": [
            "Collecting fhirclient\n",
            "  Downloading fhirclient-4.3.1-py3-none-any.whl.metadata (8.0 kB)\n",
            "Requirement already satisfied: requests>=2.4 in /usr/local/lib/python3.11/dist-packages (from fhirclient) (2.32.3)\n",
            "Requirement already satisfied: charset-normalizer<4,>=2 in /usr/local/lib/python3.11/dist-packages (from requests>=2.4->fhirclient) (3.4.2)\n",
            "Requirement already satisfied: idna<4,>=2.5 in /usr/local/lib/python3.11/dist-packages (from requests>=2.4->fhirclient) (3.10)\n",
            "Requirement already satisfied: urllib3<3,>=1.21.1 in /usr/local/lib/python3.11/dist-packages (from requests>=2.4->fhirclient) (2.4.0)\n",
            "Requirement already satisfied: certifi>=2017.4.17 in /usr/local/lib/python3.11/dist-packages (from requests>=2.4->fhirclient) (2025.4.26)\n",
            "Downloading fhirclient-4.3.1-py3-none-any.whl (425 kB)\n",
            "\u001b[2K   \u001b[90m━━━━━━━━━━━━━━━━━━━━━━━━━━━━━━━━━━━━━━━━\u001b[0m \u001b[32m425.5/425.5 kB\u001b[0m \u001b[31m5.8 MB/s\u001b[0m eta \u001b[36m0:00:00\u001b[0m\n",
            "\u001b[?25hInstalling collected packages: fhirclient\n",
            "Successfully installed fhirclient-4.3.1\n"
          ]
        }
      ],
      "source": [
        "!pip install fhirclient"
      ]
    },
    {
      "cell_type": "code",
      "source": [
        "import json"
      ],
      "metadata": {
        "id": "GfCmMiCRzcng"
      },
      "execution_count": 2,
      "outputs": []
    },
    {
      "cell_type": "code",
      "source": [
        "import fhirclient.models.patient as p\n",
        "import fhirclient.models.humanname as hn\n",
        "import fhirclient.models.identifier as id\n",
        "import fhirclient.models.address as ad\n",
        "import fhirclient.models.contactpoint as cp\n",
        "import fhirclient.models.fhirdate as fd"
      ],
      "metadata": {
        "id": "UlebKjw-zdxm"
      },
      "execution_count": 3,
      "outputs": []
    },
    {
      "cell_type": "markdown",
      "source": [
        "## instanciando as classes a serem utilizadas"
      ],
      "metadata": {
        "id": "8LfPMopo1fAn"
      }
    },
    {
      "cell_type": "code",
      "source": [
        "patient = p.Patient()\n",
        "name = hn.HumanName()\n",
        "iden = id.Identifier()\n",
        "addr = ad.Address()\n",
        "cont = cp.ContactPoint()"
      ],
      "metadata": {
        "id": "mitkEnjl0CsP"
      },
      "execution_count": 23,
      "outputs": []
    },
    {
      "cell_type": "markdown",
      "source": [
        "## Atribuição de valores"
      ],
      "metadata": {
        "id": "Si_edRsC1j4-"
      }
    },
    {
      "cell_type": "code",
      "source": [
        "iden.value = \"Danilo.Dias\""
      ],
      "metadata": {
        "id": "nnio8rFQ0Zrf"
      },
      "execution_count": 31,
      "outputs": []
    },
    {
      "cell_type": "code",
      "source": [
        "name.given = [\"Danilo Luis \"]\n",
        "name.family = \"Dias\""
      ],
      "metadata": {
        "id": "kDItoYap0giu"
      },
      "execution_count": 32,
      "outputs": []
    },
    {
      "cell_type": "code",
      "source": [
        "addr.line = [\"Cajazeiras\"]\n",
        "addr.city = \"Salvador\"\n",
        "addr.state = \"Bahia\"\n",
        "addr.district = \"NA\"\n",
        "addr.country = \"Brasil\"\n",
        "addr.postalCode = \"40000000\"\n",
        "addr.use = \"home\"\n",
        "cont.system = \"phone\"\n",
        "cont.value = \"12345678\"\n",
        "cont.use = \"home\""
      ],
      "metadata": {
        "id": "UHX8QAem0pnG"
      },
      "execution_count": 26,
      "outputs": []
    },
    {
      "cell_type": "code",
      "source": [
        "bdat = fd.FHIRDate().with_json(\"1995-04-21\")"
      ],
      "metadata": {
        "id": "DUhE544u1AU-"
      },
      "execution_count": 27,
      "outputs": []
    },
    {
      "cell_type": "markdown",
      "source": [
        "## popular o paciente com os dados criados"
      ],
      "metadata": {
        "id": "p4mG2r_911nm"
      }
    },
    {
      "cell_type": "code",
      "source": [
        "patient.name = [name]\n",
        "patient.address = [addr]\n",
        "patient.identifier = [iden]\n",
        "patient.telecom = [cont]\n",
        "\n",
        "patient.gender = \"male\"\n",
        "patient.birthDate = bdat"
      ],
      "metadata": {
        "id": "jHMvu2E21ygH"
      },
      "execution_count": 28,
      "outputs": []
    },
    {
      "cell_type": "markdown",
      "source": [
        "## utilizando o json para realizar o dump json"
      ],
      "metadata": {
        "id": "L83xpdg-2wrn"
      }
    },
    {
      "cell_type": "code",
      "source": [
        "pjson = json.dumps(patient.as_json(), indent=4)"
      ],
      "metadata": {
        "id": "FBRxFQYh2g2u"
      },
      "execution_count": 33,
      "outputs": []
    },
    {
      "cell_type": "code",
      "source": [
        "pjson = json.dumps(patient.as_json(), indent=True)"
      ],
      "metadata": {
        "id": "rVd414DNGEeB"
      },
      "execution_count": 42,
      "outputs": []
    },
    {
      "cell_type": "code",
      "source": [
        "json_patient = patient.as_json()"
      ],
      "metadata": {
        "id": "50rcWYH-GydZ"
      },
      "execution_count": 50,
      "outputs": []
    },
    {
      "cell_type": "code",
      "source": [
        "json_patient"
      ],
      "metadata": {
        "colab": {
          "base_uri": "https://localhost:8080/"
        },
        "id": "nP_C4yBPG03g",
        "outputId": "8945d55b-cbf1-4d01-cd02-6005fb7d0653"
      },
      "execution_count": 52,
      "outputs": [
        {
          "output_type": "execute_result",
          "data": {
            "text/plain": [
              "{'address': [{'city': 'Salvador',\n",
              "   'country': 'Brasil',\n",
              "   'district': 'NA',\n",
              "   'line': ['Cajazeiras'],\n",
              "   'postalCode': '40000000',\n",
              "   'state': 'Bahia',\n",
              "   'use': 'home'}],\n",
              " 'birthDate': '1995-04-21',\n",
              " 'gender': 'male',\n",
              " 'identifier': [{'value': 'Danilo.Dias'}],\n",
              " 'name': [{'family': 'Dias', 'given': ['Danilo Luis ']}],\n",
              " 'telecom': [{'system': 'phone', 'use': 'home', 'value': '12345678'}],\n",
              " 'resourceType': 'Patient'}"
            ]
          },
          "metadata": {},
          "execution_count": 52
        }
      ]
    },
    {
      "cell_type": "code",
      "source": [
        "with open(\"Patient.fhir.json\", 'w') as json_file:\n",
        "    json.dump(json_patient, json_file, indent=4)"
      ],
      "metadata": {
        "id": "K9eTVRCr3ncm"
      },
      "execution_count": 54,
      "outputs": []
    }
  ]
}