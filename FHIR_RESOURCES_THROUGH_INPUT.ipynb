{
  "nbformat": 4,
  "nbformat_minor": 0,
  "metadata": {
    "colab": {
      "provenance": [],
      "authorship_tag": "ABX9TyOcRGhDQKKqkfnM0gVoB6IU"
    },
    "kernelspec": {
      "name": "python3",
      "display_name": "Python 3"
    },
    "language_info": {
      "name": "python"
    }
  },
  "cells": [
    {
      "cell_type": "code",
      "source": [
        "import json\n",
        "import requests as re"
      ],
      "metadata": {
        "id": "0tlXhC5IEqEU"
      },
      "execution_count": 1,
      "outputs": []
    },
    {
      "cell_type": "markdown",
      "source": [
        "## firts of all we need to create our dictionary"
      ],
      "metadata": {
        "id": "l83Klgd5Eypb"
      }
    },
    {
      "cell_type": "code",
      "source": [
        "my_fhir_patient = {\n",
        "    \"resourceType\": \"Patient\",\n",
        "    \"identifier\": [\n",
        "        {\"value\": int(input(\"ID do paciente: \"))}\n",
        "    ],\n",
        "    \"name\": [\n",
        "        {\n",
        "            \"family\": str(input(\"Sobrenome: \")),\n",
        "            \"given\": [str(input(\"Nome: \"))]\n",
        "        }\n",
        "    ],\n",
        "    \"gender\": str(input(\"Gênero (male/female/other/unknown): \")),\n",
        "    \"birthDate\": str(input(\"Data de nascimento (YYYY-MM-DD): \")),\n",
        "    \"address\": [\n",
        "        {\n",
        "            \"line\": [str(input(\"Endereço (rua e número): \"))],\n",
        "            \"city\": str(input(\"Cidade: \")),\n",
        "            \"district\": str(input(\"Bairro: \")),\n",
        "            \"state\": str(input(\"Estado: \")),\n",
        "            \"postalCode\": int(input(\"CEP: \")),\n",
        "            \"country\": str(input(\"País: \")),\n",
        "            \"use\": str(input(\"Uso do endereço (home/work/old/temp): \"))\n",
        "        }\n",
        "    ],\n",
        "    \"telecom\": [\n",
        "        {\n",
        "            \"system\": str(input(\"Sistema de contato (phone/email): \")),\n",
        "            \"value\": str(input(\"Valor de contato (ex: email ou telefone): \")),\n",
        "            \"use\": str(input(\"Uso do contato (home/work/temp/old/mobile): \"))\n",
        "        }\n",
        "    ]\n",
        "}"
      ],
      "metadata": {
        "colab": {
          "base_uri": "https://localhost:8080/"
        },
        "id": "5Qg5fX2xEtXT",
        "outputId": "ad7ad422-38e1-452d-d4a7-c585061de40d"
      },
      "execution_count": 18,
      "outputs": [
        {
          "name": "stdout",
          "output_type": "stream",
          "text": [
            "ID do paciente: 1\n",
            "Sobrenome: Dias\n",
            "Nome: Danilo\n",
            "Gênero (male/female/other/unknown): male\n",
            "Data de nascimento (YYYY-MM-DD): 1995-04-21\n",
            "Endereço (rua e número): Rua sem numero\n",
            "Cidade: Salvador\n",
            "Bairro: bairro sem nome\n",
            "Estado: Bahia\n",
            "CEP: 4000000\n",
            "País: Brasil\n",
            "Uso do endereço (home/work/old/temp): home\n",
            "Sistema de contato (phone/email): phone\n",
            "Valor de contato (ex: email ou telefone): danilo@email.com\n",
            "Uso do contato (home/work/temp/old/mobile): home\n"
          ]
        }
      ]
    },
    {
      "cell_type": "code",
      "source": [
        "print(json.dumps(my_fhir_patient, indent=2, ensure_ascii=False))"
      ],
      "metadata": {
        "colab": {
          "base_uri": "https://localhost:8080/"
        },
        "id": "z1uTsxktF49f",
        "outputId": "6e680e2d-2c1c-4a51-c0b0-7dea76a2c999"
      },
      "execution_count": 19,
      "outputs": [
        {
          "output_type": "stream",
          "name": "stdout",
          "text": [
            "{\n",
            "  \"resourceType\": \"Patient\",\n",
            "  \"identifier\": [\n",
            "    {\n",
            "      \"value\": 1\n",
            "    }\n",
            "  ],\n",
            "  \"name\": [\n",
            "    {\n",
            "      \"family\": \"Dias\",\n",
            "      \"given\": [\n",
            "        \"Danilo\"\n",
            "      ]\n",
            "    }\n",
            "  ],\n",
            "  \"gender\": \"male\",\n",
            "  \"birthDate\": \"1995-04-21\",\n",
            "  \"address\": [\n",
            "    {\n",
            "      \"line\": [\n",
            "        \"Rua sem numero\"\n",
            "      ],\n",
            "      \"city\": \"Salvador\",\n",
            "      \"district\": \"bairro sem nome\",\n",
            "      \"state\": \"Bahia\",\n",
            "      \"postalCode\": 4000000,\n",
            "      \"country\": \"Brasil\",\n",
            "      \"use\": \"home\"\n",
            "    }\n",
            "  ],\n",
            "  \"telecom\": [\n",
            "    {\n",
            "      \"system\": \"phone\",\n",
            "      \"value\": \"danilo@email.com\",\n",
            "      \"use\": \"home\"\n",
            "    }\n",
            "  ]\n",
            "}\n"
          ]
        }
      ]
    },
    {
      "cell_type": "code",
      "source": [
        "def salvar_recurso_json(nome_arquivo, conteudo):\n",
        "    with open(nome_arquivo, 'w') as json_file:\n",
        "        json.dump(conteudo, json_file, indent=4)\n",
        "\n",
        "salvar_recurso_json('Patient.fhir.json', my_fhir_patient)"
      ],
      "metadata": {
        "id": "__6RAsSrJPe-"
      },
      "execution_count": 20,
      "outputs": []
    },
    {
      "cell_type": "markdown",
      "source": [
        "CRUD operations on FHIR SERVERS"
      ],
      "metadata": {
        "id": "83xcQ6mlhxux"
      }
    },
    {
      "cell_type": "code",
      "source": [
        "fhir_server = \"http://fhirserver.hl7fundamentals.org/fhir\""
      ],
      "metadata": {
        "id": "sU3Ypt8Shb45"
      },
      "execution_count": 21,
      "outputs": []
    },
    {
      "cell_type": "markdown",
      "source": [
        "## POST operation"
      ],
      "metadata": {
        "id": "uLhPXoMsjfdY"
      }
    },
    {
      "cell_type": "code",
      "source": [
        "headers = {\n",
        "    \"Content-Type\": \"application/fhir+json\"\n",
        "}\n",
        "\n",
        "response = re.post(\n",
        "    f\"{fhir_server}/Patient\",\n",
        "    headers=headers,\n",
        "    data=json.dumps(my_fhir_patient)\n",
        ")\n",
        "\n",
        "\n",
        "if response.status_code in [200, 201]:\n",
        "    print(\"Paciente criado com sucesso!\")\n",
        "    created_patient = response.json()\n",
        "    print(json.dumps(created_patient, indent=2, ensure_ascii=False))\n",
        "else:\n",
        "    print(f\"Erro ao criar paciente: {response.status_code}\")\n",
        "    print(response.text)\n"
      ],
      "metadata": {
        "colab": {
          "base_uri": "https://localhost:8080/"
        },
        "id": "riPMSm8sjjDh",
        "outputId": "98a24c7c-1334-4b0d-9323-d2395843fcfd"
      },
      "execution_count": 22,
      "outputs": [
        {
          "output_type": "stream",
          "name": "stdout",
          "text": [
            "Paciente criado com sucesso!\n",
            "{\n",
            "  \"resourceType\": \"Patient\",\n",
            "  \"id\": \"26475\",\n",
            "  \"meta\": {\n",
            "    \"versionId\": \"1\",\n",
            "    \"lastUpdated\": \"2025-06-12T18:40:15.423+00:00\",\n",
            "    \"source\": \"#1WYpA9dLrYnJ2yt8\"\n",
            "  },\n",
            "  \"identifier\": [\n",
            "    {\n",
            "      \"value\": \"1\"\n",
            "    }\n",
            "  ],\n",
            "  \"name\": [\n",
            "    {\n",
            "      \"family\": \"Dias\",\n",
            "      \"given\": [\n",
            "        \"Danilo\"\n",
            "      ]\n",
            "    }\n",
            "  ],\n",
            "  \"telecom\": [\n",
            "    {\n",
            "      \"system\": \"phone\",\n",
            "      \"value\": \"danilo@email.com\",\n",
            "      \"use\": \"home\"\n",
            "    }\n",
            "  ],\n",
            "  \"gender\": \"male\",\n",
            "  \"birthDate\": \"1995-04-21\",\n",
            "  \"address\": [\n",
            "    {\n",
            "      \"use\": \"home\",\n",
            "      \"line\": [\n",
            "        \"Rua sem numero\"\n",
            "      ],\n",
            "      \"city\": \"Salvador\",\n",
            "      \"district\": \"bairro sem nome\",\n",
            "      \"state\": \"Bahia\",\n",
            "      \"postalCode\": \"4000000\",\n",
            "      \"country\": \"Brasil\"\n",
            "    }\n",
            "  ]\n",
            "}\n"
          ]
        }
      ]
    },
    {
      "cell_type": "markdown",
      "source": [
        "## Get operation"
      ],
      "metadata": {
        "id": "c-zF_srajYIZ"
      }
    },
    {
      "cell_type": "code",
      "source": [
        "response = re.get(f\"{fhir_server}/Patient/26475\")\n",
        "\n",
        "if response.status_code == 200:\n",
        "    print(\"Paciente encontrado:\")\n",
        "    print(json.dumps(response.json(), indent=4))\n",
        "else:\n",
        "    print(f\"Erro: {response.status_code}\")"
      ],
      "metadata": {
        "colab": {
          "base_uri": "https://localhost:8080/"
        },
        "id": "ItRm2u2thadK",
        "outputId": "24fbdd9f-2094-4c02-82be-62968e4a78a0"
      },
      "execution_count": 38,
      "outputs": [
        {
          "output_type": "stream",
          "name": "stdout",
          "text": [
            "Paciente encontrado:\n",
            "{\n",
            "    \"resourceType\": \"Patient\",\n",
            "    \"id\": \"26475\",\n",
            "    \"meta\": {\n",
            "        \"versionId\": \"1\",\n",
            "        \"lastUpdated\": \"2025-06-12T18:40:15.423+00:00\",\n",
            "        \"source\": \"#1WYpA9dLrYnJ2yt8\"\n",
            "    },\n",
            "    \"identifier\": [\n",
            "        {\n",
            "            \"value\": \"1\"\n",
            "        }\n",
            "    ],\n",
            "    \"name\": [\n",
            "        {\n",
            "            \"family\": \"Dias\",\n",
            "            \"given\": [\n",
            "                \"Danilo\"\n",
            "            ]\n",
            "        }\n",
            "    ],\n",
            "    \"telecom\": [\n",
            "        {\n",
            "            \"system\": \"phone\",\n",
            "            \"value\": \"danilo@email.com\",\n",
            "            \"use\": \"home\"\n",
            "        }\n",
            "    ],\n",
            "    \"gender\": \"male\",\n",
            "    \"birthDate\": \"1995-04-21\",\n",
            "    \"address\": [\n",
            "        {\n",
            "            \"use\": \"home\",\n",
            "            \"line\": [\n",
            "                \"Rua sem numero\"\n",
            "            ],\n",
            "            \"city\": \"Salvador\",\n",
            "            \"district\": \"bairro sem nome\",\n",
            "            \"state\": \"Bahia\",\n",
            "            \"postalCode\": \"4000000\",\n",
            "            \"country\": \"Brasil\"\n",
            "        }\n",
            "    ]\n",
            "}\n"
          ]
        }
      ]
    },
    {
      "cell_type": "markdown",
      "source": [
        "## update operation"
      ],
      "metadata": {
        "id": "gyw4HpyJmG0g"
      }
    },
    {
      "cell_type": "code",
      "source": [
        "patient_id = response.json().get(\"id\")\n",
        "print(patient_id)"
      ],
      "metadata": {
        "colab": {
          "base_uri": "https://localhost:8080/"
        },
        "id": "MqBhEN8OZ1YX",
        "outputId": "d06059fd-e163-4f16-f3ba-e2ec88245f39"
      },
      "execution_count": 48,
      "outputs": [
        {
          "output_type": "stream",
          "name": "stdout",
          "text": [
            "26475\n"
          ]
        }
      ]
    },
    {
      "cell_type": "code",
      "source": [
        "updated_patient = {\n",
        "    \"resourceType\": \"Patient\",\n",
        "    \"id\": patient_id,\n",
        "    \"identifier\": [{\"value\": patient_id}],\n",
        "    \"name\": [{\"family\": \"Dias\", \"given\": [\"Danilo\"]}],\n",
        "    \"telecom\": [\n",
        "        {\n",
        "            \"system\": \"phone\",\n",
        "            \"value\": \"0000000000\",\n",
        "            \"use\": \"work\"\n",
        "        }\n",
        "    ],\n",
        "    \"gender\": \"male\",\n",
        "    \"birthDate\": \"1985-10-20\",\n",
        "    \"address\": [\n",
        "        {\n",
        "            \"line\": [\"Rua com número\"],\n",
        "            \"city\": \"São Paulo\",\n",
        "            \"district\": \"Centro\",\n",
        "            \"state\": \"SP\",\n",
        "            \"postalCode\": \"01002-000\",\n",
        "            \"country\": \"Brasil\",\n",
        "            \"use\": \"home\"\n",
        "        }\n",
        "    ]\n",
        "}\n",
        "\n",
        "headers = {\n",
        "    \"Content-Type\": \"application/fhir+json\"\n",
        "}\n",
        "\n",
        "response = re.put(\n",
        "    f\"{fhir_server}/Patient/{patient_id}\",\n",
        "    headers=headers,\n",
        "    data=json.dumps(updated_patient)\n",
        ")\n",
        "\n",
        "if response.status_code in [200, 201]:\n",
        "    print(\"Paciente atualizado com sucesso!\")\n",
        "    print(json.dumps(response.json(), indent=2, ensure_ascii=False))\n",
        "else:\n",
        "    print(f\"Erro ao atualizar paciente: {response.status_code}\")\n",
        "    print(response.text)"
      ],
      "metadata": {
        "colab": {
          "base_uri": "https://localhost:8080/"
        },
        "id": "NZfNC-926f2E",
        "outputId": "307de8e7-52f8-4324-94e0-34aaeeda26fd"
      },
      "execution_count": 49,
      "outputs": [
        {
          "output_type": "stream",
          "name": "stdout",
          "text": [
            "Paciente atualizado com sucesso!\n",
            "{\n",
            "  \"resourceType\": \"Patient\",\n",
            "  \"id\": \"26475\",\n",
            "  \"meta\": {\n",
            "    \"versionId\": \"2\",\n",
            "    \"lastUpdated\": \"2025-06-12T18:49:11.215+00:00\",\n",
            "    \"source\": \"#7vCOZbH0XTaoZo2f\"\n",
            "  },\n",
            "  \"identifier\": [\n",
            "    {\n",
            "      \"value\": \"26475\"\n",
            "    }\n",
            "  ],\n",
            "  \"name\": [\n",
            "    {\n",
            "      \"family\": \"Dias\",\n",
            "      \"given\": [\n",
            "        \"Danilo\"\n",
            "      ]\n",
            "    }\n",
            "  ],\n",
            "  \"telecom\": [\n",
            "    {\n",
            "      \"system\": \"phone\",\n",
            "      \"value\": \"0000000000\",\n",
            "      \"use\": \"work\"\n",
            "    }\n",
            "  ],\n",
            "  \"gender\": \"male\",\n",
            "  \"birthDate\": \"1985-10-20\",\n",
            "  \"address\": [\n",
            "    {\n",
            "      \"use\": \"home\",\n",
            "      \"line\": [\n",
            "        \"Rua com número\"\n",
            "      ],\n",
            "      \"city\": \"São Paulo\",\n",
            "      \"district\": \"Centro\",\n",
            "      \"state\": \"SP\",\n",
            "      \"postalCode\": \"01002-000\",\n",
            "      \"country\": \"Brasil\"\n",
            "    }\n",
            "  ]\n",
            "}\n"
          ]
        }
      ]
    },
    {
      "cell_type": "markdown",
      "source": [
        "## delete operation"
      ],
      "metadata": {
        "id": "uF8XfHdLmJu4"
      }
    },
    {
      "cell_type": "code",
      "source": [
        "response = re.delete(f\"{fhir_server}/Patient/{patient_id}\")\n",
        "\n",
        "if response.status_code == 204:\n",
        "    print(\"✅ Paciente deletado com sucesso.\")\n",
        "elif response.status_code == 404:\n",
        "    print(\"Paciente não encontrado.\")\n",
        "else:\n",
        "    print(response.status_code)\n",
        "    print(response.text)"
      ],
      "metadata": {
        "colab": {
          "base_uri": "https://localhost:8080/"
        },
        "id": "aLcPxSbjbfHE",
        "outputId": "287ca88f-d677-4782-f58c-1be4a45dd933"
      },
      "execution_count": 17,
      "outputs": [
        {
          "output_type": "stream",
          "name": "stdout",
          "text": [
            "200\n",
            "{\n",
            "  \"resourceType\": \"OperationOutcome\",\n",
            "  \"issue\": [ {\n",
            "    \"severity\": \"information\",\n",
            "    \"code\": \"informational\",\n",
            "    \"details\": {\n",
            "      \"coding\": [ {\n",
            "        \"system\": \"https://hapifhir.io/fhir/CodeSystem/hapi-fhir-storage-response-code\",\n",
            "        \"code\": \"SUCCESSFUL_DELETE_ALREADY_DELETED\",\n",
            "        \"display\": \"Delete succeeded: Resource was already deleted so no action was taken.\"\n",
            "      } ]\n",
            "    },\n",
            "    \"diagnostics\": \"Not deleted, resource Patient/26474/_history/3 was already deleted.\"\n",
            "  } ]\n",
            "}\n"
          ]
        }
      ]
    }
  ]
}