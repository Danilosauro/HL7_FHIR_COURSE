{
  "nbformat": 4,
  "nbformat_minor": 0,
  "metadata": {
    "colab": {
      "provenance": [],
      "authorship_tag": "ABX9TyOzffXPwi1uzZZa2lNklGj9"
    },
    "kernelspec": {
      "name": "python3",
      "display_name": "Python 3"
    },
    "language_info": {
      "name": "python"
    }
  },
  "cells": [
    {
      "cell_type": "code",
      "source": [
        "import json\n",
        "import requests as re"
      ],
      "metadata": {
        "id": "0tlXhC5IEqEU"
      },
      "execution_count": null,
      "outputs": []
    },
    {
      "cell_type": "markdown",
      "source": [
        "## firts of all we need to create our dictionary"
      ],
      "metadata": {
        "id": "l83Klgd5Eypb"
      }
    },
    {
      "cell_type": "code",
      "source": [
        "my_fhir_patient = {\n",
        "    \"resourceType\": \"Patient\",\n",
        "    \"identifier\": [\n",
        "        {\"value\": int(input(\"ID do paciente: \"))}\n",
        "    ],\n",
        "    \"name\": [\n",
        "        {\n",
        "            \"family\": str(input(\"Sobrenome: \")),\n",
        "            \"given\": [str(input(\"Nome: \"))]\n",
        "        }\n",
        "    ],\n",
        "    \"gender\": str(input(\"Gênero (male/female/other/unknown): \")),\n",
        "    \"birthDate\": str(input(\"Data de nascimento (YYYY-MM-DD): \")),\n",
        "    \"address\": [\n",
        "        {\n",
        "            \"line\": [str(input(\"Endereço (rua e número): \"))],\n",
        "            \"city\": str(input(\"Cidade: \")),\n",
        "            \"district\": str(input(\"Bairro: \")),\n",
        "            \"state\": str(input(\"Estado: \")),\n",
        "            \"postalCode\": int(input(\"CEP: \")),\n",
        "            \"country\": str(input(\"País: \")),\n",
        "            \"use\": str(input(\"Uso do endereço (home/work/old/temp): \"))\n",
        "        }\n",
        "    ],\n",
        "    \"telecom\": [\n",
        "        {\n",
        "            \"system\": str(input(\"Sistema de contato (phone/email): \")),\n",
        "            \"value\": str(input(\"Valor de contato (ex: email ou telefone): \")),\n",
        "            \"use\": str(input(\"Uso do contato (home/work/temp/old/mobile): \"))\n",
        "        }\n",
        "    ]\n",
        "}"
      ],
      "metadata": {
        "colab": {
          "base_uri": "https://localhost:8080/"
        },
        "id": "5Qg5fX2xEtXT",
        "outputId": "1ad92be1-dcdb-4a36-b162-6b09eb38457a"
      },
      "execution_count": null,
      "outputs": [
        {
          "name": "stdout",
          "output_type": "stream",
          "text": [
            "ID do paciente: 280000\n",
            "Sobrenome: Silva\n",
            "Nome: Luiz Inácio Lula Da\n",
            "Gênero (male/female/other/unknown): male\n",
            "Data de nascimento (YYYY-MM-DD): 1952-04-01\n",
            "Endereço (rua e número): Rua dos bobos \n",
            "Cidade: Recife\n",
            "Bairro: Centro\n",
            "Estado: Pernambuco\n",
            "CEP: 50000000\n",
            "País: Brasil\n",
            "Uso do endereço (home/work/old/temp): home\n",
            "Sistema de contato (phone/email): phone\n",
            "Valor de contato (ex: email ou telefone): telefone\n",
            "Uso do contato (home/work/temp/old/mobile): home\n"
          ]
        }
      ]
    },
    {
      "cell_type": "code",
      "source": [
        "print(json.dumps(my_fhir_patient, indent=2, ensure_ascii=False))"
      ],
      "metadata": {
        "colab": {
          "base_uri": "https://localhost:8080/"
        },
        "id": "z1uTsxktF49f",
        "outputId": "fbcdd3aa-31cb-4f3c-96bf-9f3248331a36"
      },
      "execution_count": null,
      "outputs": [
        {
          "output_type": "stream",
          "name": "stdout",
          "text": [
            "{\n",
            "  \"resourceType\": \"Patient\",\n",
            "  \"identifier\": [\n",
            "    {\n",
            "      \"value\": 280000\n",
            "    }\n",
            "  ],\n",
            "  \"name\": [\n",
            "    {\n",
            "      \"family\": \"Silva\",\n",
            "      \"given\": [\n",
            "        \"Luiz Inácio Lula Da\"\n",
            "      ]\n",
            "    }\n",
            "  ],\n",
            "  \"gender\": \"male\",\n",
            "  \"birthDate\": \"1952-04-01\",\n",
            "  \"address\": [\n",
            "    {\n",
            "      \"line\": [\n",
            "        \"Rua dos bobos \"\n",
            "      ],\n",
            "      \"city\": \"Recife\",\n",
            "      \"district\": \"Centro\",\n",
            "      \"state\": \"Pernambuco\",\n",
            "      \"postalCode\": 50000000,\n",
            "      \"country\": \"Brasil\",\n",
            "      \"use\": \"home\"\n",
            "    }\n",
            "  ],\n",
            "  \"telecom\": [\n",
            "    {\n",
            "      \"system\": \"phone\",\n",
            "      \"value\": \"telefone\",\n",
            "      \"use\": \"home\"\n",
            "    }\n",
            "  ]\n",
            "}\n"
          ]
        }
      ]
    },
    {
      "cell_type": "code",
      "source": [
        "def salvar_recurso_json(nome_arquivo, conteudo):\n",
        "    with open(nome_arquivo, 'w') as json_file:\n",
        "        json.dump(conteudo, json_file, indent=4)\n",
        "\n",
        "salvar_recurso_json('Patient.fhir.json', my_fhir_patient)"
      ],
      "metadata": {
        "id": "__6RAsSrJPe-"
      },
      "execution_count": null,
      "outputs": []
    },
    {
      "cell_type": "markdown",
      "source": [
        "CRUD operations on FHIR SERVERS"
      ],
      "metadata": {
        "id": "83xcQ6mlhxux"
      }
    },
    {
      "cell_type": "code",
      "source": [
        "fhir_server = \"http://fhirserver.hl7fundamentals.org/fhir\""
      ],
      "metadata": {
        "id": "sU3Ypt8Shb45"
      },
      "execution_count": null,
      "outputs": []
    },
    {
      "cell_type": "markdown",
      "source": [
        "## POST operation"
      ],
      "metadata": {
        "id": "uLhPXoMsjfdY"
      }
    },
    {
      "cell_type": "code",
      "source": [
        "headers = {\n",
        "    \"Content-Type\": \"application/fhir+json\"\n",
        "}\n",
        "\n",
        "response = re.post(\n",
        "    f\"{fhir_server}/Patient\",\n",
        "    headers=headers,\n",
        "    data=json.dumps(my_fhir_patient)\n",
        ")\n",
        "\n",
        "\n",
        "if response.status_code in [200, 201]:\n",
        "    print(\"Paciente criado com sucesso!\")\n",
        "    created_patient = response.json()\n",
        "    print(json.dumps(created_patient, indent=2, ensure_ascii=False))\n",
        "else:\n",
        "    print(f\"Erro ao criar paciente: {response.status_code}\")\n",
        "    print(response.text)\n"
      ],
      "metadata": {
        "colab": {
          "base_uri": "https://localhost:8080/"
        },
        "id": "riPMSm8sjjDh",
        "outputId": "f2d5ff9d-a813-4784-f7e2-081035ecf3d0"
      },
      "execution_count": null,
      "outputs": [
        {
          "output_type": "stream",
          "name": "stdout",
          "text": [
            "✅ Paciente criado com sucesso!\n",
            "{\n",
            "  \"resourceType\": \"Patient\",\n",
            "  \"id\": \"24225\",\n",
            "  \"meta\": {\n",
            "    \"versionId\": \"1\",\n",
            "    \"lastUpdated\": \"2025-06-05T19:34:44.080+00:00\",\n",
            "    \"source\": \"#maKESOt5uazVPi9Q\"\n",
            "  },\n",
            "  \"identifier\": [\n",
            "    {\n",
            "      \"value\": \"280000\"\n",
            "    }\n",
            "  ],\n",
            "  \"name\": [\n",
            "    {\n",
            "      \"family\": \"Silva\",\n",
            "      \"given\": [\n",
            "        \"Luiz Inácio Lula Da\"\n",
            "      ]\n",
            "    }\n",
            "  ],\n",
            "  \"telecom\": [\n",
            "    {\n",
            "      \"system\": \"phone\",\n",
            "      \"value\": \"telefone\",\n",
            "      \"use\": \"home\"\n",
            "    }\n",
            "  ],\n",
            "  \"gender\": \"male\",\n",
            "  \"birthDate\": \"1952-04-01\",\n",
            "  \"address\": [\n",
            "    {\n",
            "      \"use\": \"home\",\n",
            "      \"line\": [\n",
            "        \"Rua dos bobos \"\n",
            "      ],\n",
            "      \"city\": \"Recife\",\n",
            "      \"district\": \"Centro\",\n",
            "      \"state\": \"Pernambuco\",\n",
            "      \"postalCode\": \"50000000\",\n",
            "      \"country\": \"Brasil\"\n",
            "    }\n",
            "  ]\n",
            "}\n"
          ]
        }
      ]
    },
    {
      "cell_type": "markdown",
      "source": [
        "## Get operation"
      ],
      "metadata": {
        "id": "c-zF_srajYIZ"
      }
    },
    {
      "cell_type": "code",
      "source": [
        "response = re.get(f\"{fhir_server}/Patient/24225\")\n",
        "\n",
        "if response.status_code == 200:\n",
        "    print(\"Paciente encontrado:\")\n",
        "    print(json.dumps(response.json(), indent=4))\n",
        "else:\n",
        "    print(f\"Erro: {response.status_code}\")"
      ],
      "metadata": {
        "colab": {
          "base_uri": "https://localhost:8080/"
        },
        "id": "ItRm2u2thadK",
        "outputId": "6658546d-9262-4a68-a966-4d76e3447caa"
      },
      "execution_count": null,
      "outputs": [
        {
          "output_type": "stream",
          "name": "stdout",
          "text": [
            "Paciente encontrado:\n",
            "{\n",
            "    \"resourceType\": \"Patient\",\n",
            "    \"id\": \"24225\",\n",
            "    \"meta\": {\n",
            "        \"versionId\": \"1\",\n",
            "        \"lastUpdated\": \"2025-06-05T19:34:44.080+00:00\",\n",
            "        \"source\": \"#maKESOt5uazVPi9Q\"\n",
            "    },\n",
            "    \"identifier\": [\n",
            "        {\n",
            "            \"value\": \"280000\"\n",
            "        }\n",
            "    ],\n",
            "    \"name\": [\n",
            "        {\n",
            "            \"family\": \"Silva\",\n",
            "            \"given\": [\n",
            "                \"Luiz In\\u00e1cio Lula Da\"\n",
            "            ]\n",
            "        }\n",
            "    ],\n",
            "    \"telecom\": [\n",
            "        {\n",
            "            \"system\": \"phone\",\n",
            "            \"value\": \"telefone\",\n",
            "            \"use\": \"home\"\n",
            "        }\n",
            "    ],\n",
            "    \"gender\": \"male\",\n",
            "    \"birthDate\": \"1952-04-01\",\n",
            "    \"address\": [\n",
            "        {\n",
            "            \"use\": \"home\",\n",
            "            \"line\": [\n",
            "                \"Rua dos bobos \"\n",
            "            ],\n",
            "            \"city\": \"Recife\",\n",
            "            \"district\": \"Centro\",\n",
            "            \"state\": \"Pernambuco\",\n",
            "            \"postalCode\": \"50000000\",\n",
            "            \"country\": \"Brasil\"\n",
            "        }\n",
            "    ]\n",
            "}\n"
          ]
        }
      ]
    },
    {
      "cell_type": "markdown",
      "source": [
        "## update operation"
      ],
      "metadata": {
        "id": "gyw4HpyJmG0g"
      }
    },
    {
      "cell_type": "code",
      "source": [],
      "metadata": {
        "id": "NZfNC-926f2E"
      },
      "execution_count": null,
      "outputs": []
    },
    {
      "cell_type": "markdown",
      "source": [
        "## delete operation"
      ],
      "metadata": {
        "id": "uF8XfHdLmJu4"
      }
    }
  ]
}